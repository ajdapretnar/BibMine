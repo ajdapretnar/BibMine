{
 "cells": [
  {
   "cell_type": "markdown",
   "metadata": {},
   "source": [
    "# Use dropbox for persistent storage\n",
    "\n",
    "Code taken from the dropbox [updown.py](https://github.com/dropbox/dropbox-sdk-python/blob/master/example/updown.py) example.\n",
    "\n",
    "Follow the [instructions](https://github.com/dropbox/dropbox-sdk-python#creating-an-application) to create a *Dropbox Application* and to *Obtain an Access Token*. Store it in `DROPBOX_APIkey`.\n",
    "\n",
    "Use `list_folder`, `download` and `upload` functions to store and retrive content in json format."
   ]
  },
  {
   "cell_type": "code",
   "execution_count": 1,
   "metadata": {},
   "outputs": [],
   "source": [
    "import os\n",
    "import json\n",
    "import dropbox\n",
    "\n",
    "# DROPBOX_APIkey = '<your key>'\n",
    "dbx = dropbox.Dropbox(DROPBOX_APIkey)"
   ]
  },
  {
   "cell_type": "code",
   "execution_count": 2,
   "metadata": {},
   "outputs": [],
   "source": [
    "def download(fname):\n",
    "    \"\"\"Download a file.\n",
    "    Return the bytes of the file, or None if it doesn't exist.\n",
    "    \"\"\"\n",
    "    if not fname.startswith('/'):\n",
    "        fname = '/{}'.format(fname)\n",
    "    try:\n",
    "        md, res = dbx.files_download(fname)\n",
    "    except dropbox.exceptions.HttpError as err:\n",
    "        print('*** HTTP error', err)\n",
    "        return None\n",
    "    data = res.content\n",
    "    return json.loads(data)\n",
    "\n",
    "\n",
    "def upload(data, fname, overwrite=True):\n",
    "    \"\"\"Upload a file.\n",
    "    Return the request response, or None in case of error.\n",
    "    \"\"\"  \n",
    "    if not fname.startswith('/'):\n",
    "        fname = '/{}'.format(fname)\n",
    "\n",
    "    if overwrite:\n",
    "        mode = dropbox.files.WriteMode.overwrite\n",
    "    else:\n",
    "        mode = dropbox.files.WriteMode.add\n",
    "\n",
    "    data = json.dumps(data)\n",
    "    try:\n",
    "        res = dbx.files_upload(\n",
    "        data.encode('UTF8'), fname, mode, mute=False)\n",
    "    except dropbox.exceptions.ApiError as err:\n",
    "        print('*** API error', err)\n",
    "        return None\n",
    "    return res\n",
    "\n",
    "\n",
    "def list_folder(folder=''):\n",
    "    \"\"\"List a folder.\n",
    "    Return a dict mapping unicode filenames to\n",
    "    FileMetadata|FolderMetadata entries.\n",
    "    \"\"\"\n",
    "    path = '/{}'.format(folder)\n",
    "    path = path.rstrip('/')\n",
    "    try:\n",
    "        res = dbx.files_list_folder(path)\n",
    "    except dropbox.exceptions.ApiError as err:\n",
    "        print('Folder listing failed for', path, '-- assumed empty:', err)\n",
    "        return {}\n",
    "    else:\n",
    "        rv = {}\n",
    "        for entry in res.entries:\n",
    "            rv[entry.name] = entry\n",
    "        return rv"
   ]
  },
  {
   "cell_type": "code",
   "execution_count": 3,
   "metadata": {
    "run_control": {
     "marked": false
    }
   },
   "outputs": [
    {
     "name": "stdout",
     "output_type": "stream",
     "text": [
      "test.txt\n"
     ]
    }
   ],
   "source": [
    "list_folder('test')\n",
    "res = upload('test content', 'test/test.txt')\n",
    "print(res.name)"
   ]
  },
  {
   "cell_type": "code",
   "execution_count": 4,
   "metadata": {},
   "outputs": [
    {
     "data": {
      "text/plain": [
       "'test content'"
      ]
     },
     "execution_count": 4,
     "metadata": {},
     "output_type": "execute_result"
    }
   ],
   "source": [
    "download('test/test.txt')"
   ]
  }
 ],
 "metadata": {
  "kernelspec": {
   "display_name": "Python [default]",
   "language": "python",
   "name": "python3"
  },
  "language_info": {
   "codemirror_mode": {
    "name": "ipython",
    "version": 3
   },
   "file_extension": ".py",
   "mimetype": "text/x-python",
   "name": "python",
   "nbconvert_exporter": "python",
   "pygments_lexer": "ipython3",
   "version": "3.6.3"
  },
  "latex_envs": {
   "LaTeX_envs_menu_present": true,
   "autocomplete": true,
   "bibliofile": "biblio.bib",
   "cite_by": "apalike",
   "current_citInitial": 1,
   "eqLabelWithNumbers": true,
   "eqNumInitial": 1,
   "hotkeys": {
    "equation": "Ctrl-E",
    "itemize": "Ctrl-I"
   },
   "labels_anchors": false,
   "latex_user_defs": false,
   "report_style_numbering": false,
   "user_envs_cfg": false
  },
  "nbTranslate": {
   "displayLangs": [
    "*"
   ],
   "hotkey": "alt-t",
   "langInMainMenu": true,
   "sourceLang": "en",
   "targetLang": "fr",
   "useGoogleTranslate": true
  }
 },
 "nbformat": 4,
 "nbformat_minor": 2
}
