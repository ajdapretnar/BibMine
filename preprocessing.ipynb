{
 "cells": [
  {
   "cell_type": "code",
   "execution_count": null,
   "metadata": {},
   "outputs": [],
   "source": [
    "import pandas as pd\n",
    "import pickle\n",
    "import re\n",
    "import numpy as np"
   ]
  },
  {
   "cell_type": "code",
   "execution_count": null,
   "metadata": {},
   "outputs": [],
   "source": [
    "import nltk\n",
    "from nltk import bigrams\n",
    "from nltk.collocations import BigramAssocMeasures, BigramCollocationFinder\n",
    "from nltk.corpus import stopwords\n",
    "from nltk.tokenize import RegexpTokenizer, sent_tokenize\n",
    "from nltk.stem import WordNetLemmatizer\n",
    "from nltk.tokenize import MWETokenizer\n",
    "from pattern.en import lemma"
   ]
  },
  {
   "cell_type": "code",
   "execution_count": null,
   "metadata": {},
   "outputs": [],
   "source": [
    "import warnings\n",
    "warnings.filterwarnings(\"ignore\")\n",
    "nltk.download(\"stopwords\")\n",
    "nltk.download(\"wordnet\")"
   ]
  },
  {
   "cell_type": "code",
   "execution_count": null,
   "metadata": {},
   "outputs": [],
   "source": [
    "def remove_phrases(text):\n",
    "    # import unidecode\n",
    "    # text = unidecode.unidecode(text)\n",
    "    regex = \"(Copyright)?( © )(.+?)(\\\\.)\"\n",
    "    text = re.sub(regex, '', text)\n",
    "    text = text.replace(\"et\\u2009al\", \"\").replace(\"et\\xa0al\", \"\").replace(\"et al\", \"\")\n",
    "    text = text.replace(\"de la\", \"\").replace(\"i.e.\", \"\").replace(\"e.g.\", \"\")\n",
    "    text = text.replace(\" Todos los derechos reservados.\", \"\").replace(\" -H.Clout\", \"\")\n",
    "    return text"
   ]
  },
  {
   "cell_type": "code",
   "execution_count": null,
   "metadata": {},
   "outputs": [],
   "source": [
    "def remove_citations(text):\n",
    "    regex = \"\\\\((.*?)\\\\)\"\n",
    "    return re.sub(regex, '', text)"
   ]
  },
  {
   "cell_type": "code",
   "execution_count": null,
   "metadata": {},
   "outputs": [],
   "source": [
    "remove = ['destination', 'experience', 'industry', 'product', 'segment']\n",
    "\n",
    "def sent_with_keyword(text, keyword):\n",
    "    tokens = sent_tokenize(text)\n",
    "    return \" \".join([sent for sent in tokens if keyword in sent and any(i in sent for i in remove)])"
   ]
  },
  {
   "cell_type": "code",
   "execution_count": null,
   "metadata": {},
   "outputs": [],
   "source": [
    "stop_words = set(stopwords.words('english'))\n",
    "regex = \"(?u)\\\\b[\\\\w-]+\\\\b\"\n",
    "\n",
    "def tokenize(text, keyword):\n",
    "    text = sent_with_keyword(text.lower(), keyword)\n",
    "    tokenizer = RegexpTokenizer(regex)\n",
    "    tokens = tokenizer.tokenize(text)\n",
    "    mwe_tokenizer = MWETokenizer([('u', 's', 'a'), ('u', 's'), ('b', 'b')], separator='')\n",
    "    tokens = mwe_tokenizer.tokenize(tokens)\n",
    "    return tokens"
   ]
  },
  {
   "cell_type": "code",
   "execution_count": null,
   "metadata": {},
   "outputs": [],
   "source": [
    "# try except necessary to prevent StopIteration error in Py3.7\n",
    "def lemmatize(text):\n",
    "    tmp = []\n",
    "    for t in text:\n",
    "        try:\n",
    "            tmp.append(lemma(t))\n",
    "        except:\n",
    "            pass\n",
    "    return tmp"
   ]
  },
  {
   "cell_type": "code",
   "execution_count": null,
   "metadata": {},
   "outputs": [],
   "source": [
    "def remove_stopwords(text, to_ignore):\n",
    "    return [token for token in text if token not in to_ignore]"
   ]
  },
  {
   "cell_type": "code",
   "execution_count": null,
   "metadata": {},
   "outputs": [],
   "source": [
    "def pos_tagger(text):\n",
    "    tagged = nltk.pos_tag(text, tagset='universal')\n",
    "    return [word for word, tag in tagged if tag in ['VERB']]"
   ]
  },
  {
   "cell_type": "code",
   "execution_count": null,
   "metadata": {},
   "outputs": [],
   "source": [
    "def preprocess(df, to_ignore=None, keyword=None, save_to_file=None):\n",
    "    if to_ignore is None:\n",
    "        # use default\n",
    "        to_ignore = ignore_words\n",
    "\n",
    "    new_df = df[['Title', 'Date', 'Abstract', 'URL', 'Content']]\n",
    "    # remove instances with empty content\n",
    "    new_df = new_df[new_df.Content != '']\n",
    "    new_df.reset_index(drop=True, inplace=True)\n",
    "    \n",
    "    # remove copyright phrases and citations\n",
    "    new_df['Content'] = new_df['Content'].apply(remove_phrases)\n",
    "    new_df['Content'] = new_df['Content'].apply(remove_citations)\n",
    "    \n",
    "    # create tokens from selected sentences only, based on keyword\n",
    "    tokens = [tokenize(t, keyword) for t in new_df['Content']]\n",
    "    \n",
    "    # keep all tokens for later\n",
    "    original = tokens\n",
    "    new_df['original tokens'] = original\n",
    "    pickle.dump(original, open('stakeholders-original-tokens.pkl', 'wb'))\n",
    "    \n",
    "    # keep only verbs\n",
    "    tokens = [remove_stopwords(lemmatize(pos_tagger(t)), to_ignore) for t in tokens]\n",
    "    tokens = [[t for t in doc if t not in stop_words and not re.match(\"[0-9]\", t) and t] for doc in tokens]\n",
    "\n",
    "    new_df['tokens'] = tokens\n",
    "    pickle.dump(tokens, open('stakeholders-tokens.pkl', 'wb'))\n",
    "    \n",
    "    if save_to_file:\n",
    "        new_df.to_csv(save_to_file, index=False)       \n",
    "    \n",
    "    return original, tokens, new_df"
   ]
  },
  {
   "cell_type": "markdown",
   "metadata": {},
   "source": [
    "### Word Frequencies\n",
    "\n",
    "Find most frequent words in the corpus."
   ]
  },
  {
   "cell_type": "code",
   "execution_count": null,
   "metadata": {},
   "outputs": [],
   "source": [
    "from nltk.probability import FreqDist\n",
    "\n",
    "def word_frequencies(tokens):\n",
    "    flat_tokens = [t for doc in tokens for t in doc]\n",
    "    fdist = FreqDist(flat_tokens)\n",
    "    return fdist"
   ]
  },
  {
   "cell_type": "markdown",
   "metadata": {},
   "source": [
    "### Context of words\n",
    "\n",
    "Find common contexts where the words from the list frequently occur."
   ]
  },
  {
   "cell_type": "code",
   "execution_count": null,
   "metadata": {},
   "outputs": [],
   "source": [
    "from nltk import Text\n",
    "\n",
    "def word_contexts(tokens, words, num=20):\n",
    "    flat_tokens = [t for doc in tokens for t in doc]\n",
    "    text = Text(flat_tokens)   \n",
    "    return text.common_contexts(words, num)"
   ]
  },
  {
   "cell_type": "markdown",
   "metadata": {},
   "source": [
    "## Concordances\n",
    "\n",
    "Concordance of selected words."
   ]
  },
  {
   "cell_type": "code",
   "execution_count": null,
   "metadata": {},
   "outputs": [],
   "source": [
    "def concordance(data, word):\n",
    "    for text in data['Content']:\n",
    "        tokens = sent_tokenize(text)\n",
    "        for sent in tokens:\n",
    "            if word in sent:\n",
    "                print(sent)\n",
    "        print(\"---- End of document ----\")"
   ]
  }
 ],
 "metadata": {
  "kernelspec": {
   "display_name": "Python 3",
   "language": "python",
   "name": "python3"
  },
  "language_info": {
   "codemirror_mode": {
    "name": "ipython",
    "version": 3
   },
   "file_extension": ".py",
   "mimetype": "text/x-python",
   "name": "python",
   "nbconvert_exporter": "python",
   "pygments_lexer": "ipython3",
   "version": "3.7.2"
  },
  "latex_envs": {
   "LaTeX_envs_menu_present": true,
   "autocomplete": true,
   "bibliofile": "biblio.bib",
   "cite_by": "apalike",
   "current_citInitial": 1,
   "eqLabelWithNumbers": true,
   "eqNumInitial": 1,
   "hotkeys": {
    "equation": "Ctrl-E",
    "itemize": "Ctrl-I"
   },
   "labels_anchors": false,
   "latex_user_defs": false,
   "report_style_numbering": false,
   "user_envs_cfg": false
  },
  "nbTranslate": {
   "displayLangs": [
    "*"
   ],
   "hotkey": "alt-t",
   "langInMainMenu": true,
   "sourceLang": "en",
   "targetLang": "fr",
   "useGoogleTranslate": true
  }
 },
 "nbformat": 4,
 "nbformat_minor": 2
}
