{
 "cells": [
  {
   "cell_type": "markdown",
   "metadata": {},
   "source": [
    "## API Keys\n",
    "\n",
    "### Elsevier\n",
    "\n",
    "Elsevier API service requires users to get their personal API key and to be\n",
    "connected to a network that has access to Elsevier publications (usually,\n",
    "universities enable it).\n",
    "\n",
    "Go to [Elsevier developer portal](https://dev.elsevier.com/apikey/manage) and\n",
    "click Create API Key. Follow the instructions.\n",
    "\n",
    "Once the request is sent, a new API key will appear in the Registered API Keys\n",
    "section. Copy the key (the alpha-numeric combination on the right, under API\n",
    "Key) and paste it into `ELSEVIER_APIKey` field below.\n",
    "\n",
    "Make sure your key is enveloped into quotes, so it has to look something like\n",
    "this:\n",
    "\n",
    "    ELSEVIER_APIKey = \"my1939239key\"\n",
    "\n",
    "### Dropbox\n",
    "We use dropbox to permanently store hits and thus prevent repeating queries for same publications.\n",
    "\n",
    "Follow the\n",
    "[instructions](https://github.com/dropbox/dropbox-sdk-python#creating-an-application)\n",
    "to create a *Dropbox Application* and to *Obtain an Access Token*. Store it\n",
    "into `DROPBOX_APIkey` field below.\n",
    "\n",
    "    DROPBOX_APIkey = \"my911232key\"\n"
   ]
  },
  {
   "cell_type": "code",
   "execution_count": null,
   "metadata": {},
   "outputs": [],
   "source": [
    "ELSEVIER_APIKey = \"\"\n",
    "DROPBOX_APIkey = \"\""
   ]
  },
  {
   "cell_type": "code",
   "execution_count": null,
   "metadata": {},
   "outputs": [],
   "source": [
    "import os\n",
    "\n",
    "try:\n",
    "    from api_keys import *\n",
    "    print(\"Keys loaded from 'api_keys.py'\")\n",
    "except:\n",
    "    print(\"Using keys from 'api_keys.ipynb'\")\n",
    "    pass"
   ]
  }
 ],
 "metadata": {
  "kernelspec": {
   "display_name": "Python [default]",
   "language": "python",
   "name": "python3"
  },
  "language_info": {
   "codemirror_mode": {
    "name": "ipython",
    "version": 3
   },
   "file_extension": ".py",
   "mimetype": "text/x-python",
   "name": "python",
   "nbconvert_exporter": "python",
   "pygments_lexer": "ipython3",
   "version": "3.6.3"
  },
  "latex_envs": {
   "LaTeX_envs_menu_present": true,
   "autocomplete": true,
   "bibliofile": "biblio.bib",
   "cite_by": "apalike",
   "current_citInitial": 1,
   "eqLabelWithNumbers": true,
   "eqNumInitial": 1,
   "hotkeys": {
    "equation": "Ctrl-E",
    "itemize": "Ctrl-I"
   },
   "labels_anchors": false,
   "latex_user_defs": false,
   "report_style_numbering": false,
   "user_envs_cfg": false
  },
  "nbTranslate": {
   "displayLangs": [
    "*"
   ],
   "hotkey": "alt-t",
   "langInMainMenu": true,
   "sourceLang": "en",
   "targetLang": "fr",
   "useGoogleTranslate": true
  }
 },
 "nbformat": 4,
 "nbformat_minor": 2
}
