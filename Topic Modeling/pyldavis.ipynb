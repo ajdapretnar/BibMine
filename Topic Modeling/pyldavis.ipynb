{
 "cells": [
  {
   "cell_type": "markdown",
   "metadata": {},
   "source": [
    "## Visualization of Topics\n",
    "\n",
    "We are using pyLDAvis visualization by [Ben Mabey](https://github.com/bmabey/pyLDAvis) who adapted the original R package to Python.\n",
    "\n",
    "pyLDAvis shows topics as circles in a 2D plot. This is an approximation of topic similarity. The more similar two topics are, the closer they will be in the plot. The size of the circle corresponds to the presence of the topic in the corpus.\n",
    "\n",
    "The visualization shows the top 30 most salient terms (not frequent!), where saliency refers to the importance of each word for the topic. If a word is frequent in a topic, but also in the entire corpus, it will get a lower saliency score than a word that is frequent in a topic alone. Conceptually, it is similar to TF-IDF.\n",
    "If the topic is selected, it shows most relevant (frequent) terms in a selected topic. Relevance is similar to saliency. It is a weighted measure of term probability and lift, where lambda = 1 ranks only by probability of the term and lambda = 0 ranks only by lift (the ratio of a term’s probability within a topic to its marginal probability across the corpus)."
   ]
  },
  {
   "cell_type": "code",
   "execution_count": 1,
   "metadata": {},
   "outputs": [],
   "source": [
    "import pickle\n",
    "\n",
    "from gensim import corpora\n",
    "from gensim.models.ldamodel import LdaModel\n",
    "import pyLDAvis.gensim"
   ]
  },
  {
   "cell_type": "code",
   "execution_count": 2,
   "metadata": {},
   "outputs": [],
   "source": [
    "# used to hush the warnings that appear in pyLDAvis\n",
    "import warnings\n",
    "warnings.filterwarnings(\"ignore\")"
   ]
  },
  {
   "cell_type": "code",
   "execution_count": 3,
   "metadata": {},
   "outputs": [],
   "source": [
    "tokens = pickle.load(open('../Preprocessing/tokens.pkl', 'rb'))"
   ]
  },
  {
   "cell_type": "markdown",
   "metadata": {},
   "source": [
    "Please check if any of the words in the list are redundant."
   ]
  },
  {
   "cell_type": "code",
   "execution_count": null,
   "metadata": {},
   "outputs": [],
   "source": [
    "from nltk.probability import FreqDist\n",
    "\n",
    "flat_tokens = [t for doc in tokens for t in doc]\n",
    "fdist = FreqDist(flat_tokens)\n",
    "for i, j in fdist.most_common(100):\n",
    "    print(i, \": \", j)"
   ]
  },
  {
   "cell_type": "code",
   "execution_count": 4,
   "metadata": {},
   "outputs": [],
   "source": [
    "dictionary = corpora.Dictionary(tokens)\n",
    "dictionary.filter_extremes(0.1, 0.9)\n",
    "dictionary.save('LDA_dictionary.gensim')"
   ]
  },
  {
   "cell_type": "code",
   "execution_count": 5,
   "metadata": {},
   "outputs": [],
   "source": [
    "corpus = [dictionary.doc2bow(text) for text in tokens]\n",
    "pickle.dump(corpus, open('LDA_corpus.pkl', 'wb'))"
   ]
  },
  {
   "cell_type": "markdown",
   "metadata": {},
   "source": [
    "Decide on the number of topics you wish to observe."
   ]
  },
  {
   "cell_type": "code",
   "execution_count": 6,
   "metadata": {},
   "outputs": [],
   "source": [
    "NUM_TOPICS = 10\n",
    "ldamodel = LdaModel(corpus, num_topics = NUM_TOPICS, id2word=dictionary, passes=15)\n",
    "ldamodel.save('LDA_model{}.gensim'.format(NUM_TOPICS))"
   ]
  },
  {
   "cell_type": "code",
   "execution_count": 7,
   "metadata": {},
   "outputs": [
    {
     "name": "stdout",
     "output_type": "stream",
     "text": [
      "Topic 1:\n",
      "   \"development\": 0.021\n",
      "   \"economic\": 0.008\n",
      "   \"industry\": 0.007\n",
      "   \"business\": 0.006\n",
      "   \"region\": 0.006\n",
      "   \"destination\": 0.006\n",
      "   \"new\": 0.006\n",
      "   \"model\": 0.006\n",
      "   \"regional\": 0.006\n",
      "   \"process\": 0.006\n",
      "Topic 2:\n",
      "   \"service\": 0.015\n",
      "   \"technology\": 0.010\n",
      "   \"information\": 0.009\n",
      "   \"destination\": 0.007\n",
      "   \"customer\": 0.007\n",
      "   \"industry\": 0.007\n",
      "   \"travel\": 0.006\n",
      "   \"management\": 0.006\n",
      "   \"use\": 0.006\n",
      "   \"hotel\": 0.006\n",
      "Topic 3:\n",
      "   \"destination\": 0.008\n",
      "   \"hotel\": 0.007\n",
      "   \"city\": 0.006\n",
      "   \"park\": 0.005\n",
      "   \"sector\": 0.005\n",
      "   \"website\": 0.004\n",
      "   \"activity\": 0.004\n",
      "   \"service\": 0.004\n",
      "   \"local\": 0.004\n",
      "   \"development\": 0.004\n",
      "Topic 4:\n",
      "   \"industry\": 0.007\n",
      "   \"development\": 0.006\n",
      "   \"service\": 0.006\n",
      "   \"city\": 0.006\n",
      "   \"smart\": 0.005\n",
      "   \"theme\": 0.005\n",
      "   \"article\": 0.005\n",
      "   \"process\": 0.004\n",
      "   \"technology\": 0.004\n",
      "   \"issue\": 0.004\n",
      "Topic 5:\n",
      "   \"community\": 0.008\n",
      "   \"knowledge\": 0.008\n",
      "   \"new\": 0.008\n",
      "   \"local\": 0.008\n",
      "   \"development\": 0.007\n",
      "   \"approach\": 0.005\n",
      "   \"product\": 0.004\n",
      "   \"festival\": 0.004\n",
      "   \"industry\": 0.004\n",
      "   \"practice\": 0.004\n",
      "Topic 6:\n",
      "   \"industry\": 0.007\n",
      "   \"environmental\": 0.007\n",
      "   \"service\": 0.006\n",
      "   \"hotel\": 0.005\n",
      "   \"new\": 0.005\n",
      "   \"management\": 0.005\n",
      "   \"sector\": 0.004\n",
      "   \"development\": 0.004\n",
      "   \"year\": 0.004\n",
      "   \"water\": 0.004\n",
      "Topic 7:\n",
      "   \"model\": 0.012\n",
      "   \"value\": 0.012\n",
      "   \"land\": 0.008\n",
      "   \"chain\": 0.008\n",
      "   \"value chain\": 0.007\n",
      "   \"forest\": 0.006\n",
      "   \"consolidation\": 0.006\n",
      "   \"land consolidation\": 0.005\n",
      "   \"product\": 0.005\n",
      "   \"construction\": 0.004\n",
      "Topic 8:\n",
      "   \"cultural\": 0.010\n",
      "   \"knowledge\": 0.007\n",
      "   \"firm\": 0.006\n",
      "   \"industrial\": 0.006\n",
      "   \"local\": 0.005\n",
      "   \"development\": 0.005\n",
      "   \"creative\": 0.005\n",
      "   \"company\": 0.005\n",
      "   \"heritage\": 0.004\n",
      "   \"process\": 0.004\n",
      "Topic 9:\n",
      "   \"food\": 0.006\n",
      "   \"new\": 0.006\n",
      "   \"local\": 0.005\n",
      "   \"hospitality\": 0.004\n",
      "   \"product\": 0.004\n",
      "   \"industry\": 0.004\n",
      "   \"area\": 0.004\n",
      "   \"article\": 0.003\n",
      "   \"one\": 0.003\n",
      "   \"development\": 0.003\n",
      "Topic 10:\n",
      "   \"firm\": 0.009\n",
      "   \"knowledge\": 0.008\n",
      "   \"social\": 0.007\n",
      "   \"new\": 0.006\n",
      "   \"sector\": 0.006\n",
      "   \"process\": 0.006\n",
      "   \"rural\": 0.005\n",
      "   \"approach\": 0.005\n",
      "   \"technology\": 0.005\n",
      "   \"cluster\": 0.004\n"
     ]
    }
   ],
   "source": [
    "topics = ldamodel.print_topics(num_words=10)\n",
    "for topic in topics:\n",
    "    print(\"Topic {}:\".format(topic[0]+1))\n",
    "    for word in topic[1].split(' + '):\n",
    "        print('   {}: {}'.format(word.split('*')[1], word.split('*')[0]))"
   ]
  },
  {
   "cell_type": "markdown",
   "metadata": {},
   "source": [
    "An interactive visualization of topics from LDA model.\n",
    "\n",
    "You can select the topic manually by clicking on the circle in the plot or by selecting topic number in the control area at the top.\n",
    "\n",
    "On the right, you see the most relevant terms for the selected topic. If you click on a word in the histogram on the right, topic circles will resize according to the saliency of the term in the topic."
   ]
  },
  {
   "cell_type": "code",
   "execution_count": null,
   "metadata": {},
   "outputs": [],
   "source": [
    "lda_display = pyLDAvis.gensim.prepare(ldamodel, corpus, dictionary, sort_topics=False)\n",
    "# pyLDAvis will throw a FutureWarning, which you can ignore\n",
    "pyLDAvis.display(lda_display)"
   ]
  }
 ],
 "metadata": {
  "kernelspec": {
   "display_name": "Python 3",
   "language": "python",
   "name": "python3"
  },
  "language_info": {
   "codemirror_mode": {
    "name": "ipython",
    "version": 3
   },
   "file_extension": ".py",
   "mimetype": "text/x-python",
   "name": "python",
   "nbconvert_exporter": "python",
   "pygments_lexer": "ipython3",
   "version": "3.7.2"
  }
 },
 "nbformat": 4,
 "nbformat_minor": 2
}
