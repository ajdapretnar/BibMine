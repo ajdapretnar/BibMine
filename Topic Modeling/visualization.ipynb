{
 "cells": [
  {
   "cell_type": "code",
   "execution_count": null,
   "metadata": {},
   "outputs": [],
   "source": [
    "import gensim\n",
    "import numpy as np\n",
    "import pandas as pd\n",
    "import pickle"
   ]
  },
  {
   "cell_type": "code",
   "execution_count": null,
   "metadata": {},
   "outputs": [],
   "source": [
    "corpus = pickle.load(open('LDA_corpus.pkl', 'rb'))\n",
    "dictionary = gensim.corpora.Dictionary.load('LDA_dictionary.gensim')\n",
    "ldamodel = gensim.models.LdaModel.load('LDA_model10.gensim')"
   ]
  },
  {
   "cell_type": "code",
   "execution_count": null,
   "metadata": {},
   "outputs": [],
   "source": [
    "all_topics_csr = gensim.matutils.corpus2csc(ldamodel.get_document_topics(corpus))\n",
    "all_topics_numpy = all_topics_csr.T.toarray()\n",
    "\n",
    "df = pd.read_csv('../Innovation/Innovation-Scopus-has_abstract.tab', delimiter='\\t')\n",
    "df = df.drop([0, 1])\n",
    "df.reset_index(drop=True, inplace=True)\n",
    "\n",
    "topic_df = pd.DataFrame(all_topics_numpy, columns=[\"Topic 1\", \"Topic 2\", \"Topic 3\", \"Topic 4\", \"Topic 5\", \n",
    "                                                \"Topic 6\", \"Topic 7\", \"Topic 8\", \"Topic 9\", \"Topic 10\"])\n",
    "\n",
    "data = pd.concat([df, topic_df], axis=1)\n",
    "data.to_csv('topics.csv', index=False)"
   ]
  },
  {
   "cell_type": "code",
   "execution_count": null,
   "metadata": {},
   "outputs": [],
   "source": [
    "import seaborn as sns; sns.set(rc={'figure.figsize':(6,20)})\n",
    "\n",
    "ind = [\"Topic 1\", \"Topic 2\", \"Topic 3\", \"Topic 4\", \"Topic 5\", \n",
    "       \"Topic 6\", \"Topic 7\", \"Topic 8\", \"Topic 9\", \"Topic 10\"]\n",
    "\n",
    "\n",
    "hm = sns.heatmap(topic_df[ind], xticklabels=ind)"
   ]
  },
  {
   "cell_type": "code",
   "execution_count": null,
   "metadata": {},
   "outputs": [],
   "source": [
    "fig = hm.get_figure()\n",
    "fig.savefig('heat-map.png')"
   ]
  },
  {
   "cell_type": "code",
   "execution_count": null,
   "metadata": {},
   "outputs": [],
   "source": [
    "cm = sns.clustermap(topic_df[ind], col_cluster=False)\n",
    "cm.savefig('cluster-map.png') "
   ]
  },
  {
   "cell_type": "code",
   "execution_count": null,
   "metadata": {},
   "outputs": [],
   "source": []
  }
 ],
 "metadata": {
  "kernelspec": {
   "display_name": "Python 3",
   "language": "python",
   "name": "python3"
  },
  "language_info": {
   "codemirror_mode": {
    "name": "ipython",
    "version": 3
   },
   "file_extension": ".py",
   "mimetype": "text/x-python",
   "name": "python",
   "nbconvert_exporter": "python",
   "pygments_lexer": "ipython3",
   "version": "3.7.2"
  }
 },
 "nbformat": 4,
 "nbformat_minor": 2
}
