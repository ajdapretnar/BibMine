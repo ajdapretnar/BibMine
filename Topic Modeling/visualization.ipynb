{
 "cells": [
  {
   "cell_type": "code",
   "execution_count": null,
   "metadata": {},
   "outputs": [],
   "source": [
    "import gensim\n",
    "import numpy as np\n",
    "import pandas as pd\n",
    "\n",
    "import itertools\n",
    "\n",
    "import matplotlib.pyplot as plt\n",
    "import seaborn as sns"
   ]
  },
  {
   "cell_type": "code",
   "execution_count": null,
   "metadata": {},
   "outputs": [],
   "source": [
    "def add_topics_vector(corpus, ldamodel):\n",
    "    all_topics_csr = gensim.matutils.corpus2csc(ldamodel.get_document_topics(corpus))\n",
    "    all_topics_numpy = all_topics_csr.T.toarray()\n",
    "\n",
    "    topic_labels = ['Topic {}'.format(i+1) for i in range(all_topics_numpy.shape[1])]\n",
    "    topic_vectors = pd.DataFrame(all_topics_numpy, columns=topic_labels)\n",
    "\n",
    "    return topic_vectors"
   ]
  },
  {
   "cell_type": "code",
   "execution_count": null,
   "metadata": {},
   "outputs": [],
   "source": [
    "def visualize(topic_vectors):\n",
    "    plt.figure(figsize=(6, 15))\n",
    "    plt.title('Document topic heatmap')\n",
    "    hm = sns.heatmap(topic_vectors) #, xticklabels=ind)\n",
    "\n",
    "    cm = sns.clustermap(topic_vectors, col_cluster=True, figsize=(6, 15))\n",
    "    cm.fig.suptitle('Document topic heatmap - clustered') \n",
    "\n",
    "    return hm, cm"
   ]
  },
  {
   "cell_type": "code",
   "execution_count": null,
   "metadata": {},
   "outputs": [],
   "source": [
    "def get_datetime(topic_vectors, data):\n",
    "    topic_vectors = pd.concat([topic_vectors, data['Date']], axis=1)\n",
    "    topic_vectors['Date'] = pd.to_datetime(topic_vectors['Date'])\n",
    "    topic_vectors = topic_vectors.set_index('Date')\n",
    "    topic_vectors.sort_index(inplace=True)\n",
    "    return topic_vectors"
   ]
  },
  {
   "cell_type": "code",
   "execution_count": null,
   "metadata": {},
   "outputs": [],
   "source": [
    "def heat_map_time(start_date, end_date, data):\n",
    "    subset = data.loc[start_date : end_date]\n",
    "    ind = list(data)\n",
    "    time_cm = sns.clustermap(subset[ind], col_cluster=False)\n",
    "    return time_cm"
   ]
  }
 ],
 "metadata": {
  "kernelspec": {
   "display_name": "Python 3",
   "language": "python",
   "name": "python3"
  },
  "language_info": {
   "codemirror_mode": {
    "name": "ipython",
    "version": 3
   },
   "file_extension": ".py",
   "mimetype": "text/x-python",
   "name": "python",
   "nbconvert_exporter": "python",
   "pygments_lexer": "ipython3",
   "version": "3.7.2"
  },
  "latex_envs": {
   "LaTeX_envs_menu_present": true,
   "autocomplete": true,
   "bibliofile": "biblio.bib",
   "cite_by": "apalike",
   "current_citInitial": 1,
   "eqLabelWithNumbers": true,
   "eqNumInitial": 1,
   "hotkeys": {
    "equation": "Ctrl-E",
    "itemize": "Ctrl-I"
   },
   "labels_anchors": false,
   "latex_user_defs": false,
   "report_style_numbering": false,
   "user_envs_cfg": false
  },
  "nbTranslate": {
   "displayLangs": [
    "*"
   ],
   "hotkey": "alt-t",
   "langInMainMenu": true,
   "sourceLang": "en",
   "targetLang": "fr",
   "useGoogleTranslate": true
  }
 },
 "nbformat": 4,
 "nbformat_minor": 2
}
