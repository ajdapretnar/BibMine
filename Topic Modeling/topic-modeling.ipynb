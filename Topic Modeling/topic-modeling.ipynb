{
 "cells": [
  {
   "cell_type": "code",
   "execution_count": 1,
   "metadata": {},
   "outputs": [],
   "source": [
    "import pickle\n",
    "import collections\n",
    " \n",
    "from sklearn.cluster import KMeans\n",
    "from sklearn.feature_extraction.text import TfidfVectorizer\n",
    "from pprint import pprint"
   ]
  },
  {
   "cell_type": "code",
   "execution_count": 2,
   "metadata": {},
   "outputs": [],
   "source": [
    "tokens = pickle.load(open('../Preprocessing/tokens.pkl', 'rb'))\n",
    "data = pickle.load(open('../Preprocessing/topic-corpus.pkl', 'rb'))"
   ]
  },
  {
   "cell_type": "code",
   "execution_count": 3,
   "metadata": {},
   "outputs": [],
   "source": [
    "def dummy_fun(tokens):\n",
    "    return tokens"
   ]
  },
  {
   "cell_type": "code",
   "execution_count": 4,
   "metadata": {},
   "outputs": [],
   "source": [
    "def cluster_texts(texts, clusters=3):\n",
    "    \"\"\" Transform texts to Tf-Idf coordinates and cluster texts using K-Means \"\"\"\n",
    "    vectorizer = TfidfVectorizer(analyzer='word',\n",
    "                            tokenizer=dummy_fun,\n",
    "                            preprocessor=dummy_fun,\n",
    "                            max_df=0.9,\n",
    "                            min_df=0.1,\n",
    "                            token_pattern=None) \n",
    "    X = vectorizer.fit_transform(tokens)\n",
    "    features = vectorizer.get_feature_names()\n",
    "    km_model = KMeans(n_clusters=clusters)\n",
    "    km_model.fit(X)\n",
    " \n",
    "    clustering = collections.defaultdict(list)\n",
    " \n",
    "    for idx, label in enumerate(km_model.labels_):\n",
    "        clustering[label].append(idx)\n",
    " \n",
    "    return clustering, X, features"
   ]
  },
  {
   "cell_type": "code",
   "execution_count": 5,
   "metadata": {},
   "outputs": [],
   "source": [
    "clusters, X, features = cluster_texts(data, 7)"
   ]
  },
  {
   "cell_type": "code",
   "execution_count": 6,
   "metadata": {},
   "outputs": [],
   "source": [
    "import pandas as pd\n",
    "items = [[key, i] for key, value in dict(clusters).items() for i in value]\n",
    "df2 = pd.DataFrame(items, columns=['Cluster', 'Index'])\n",
    "df2.set_index('Index', inplace=True)\n",
    "df2 = df2.sort_index()\n",
    "data = data.reset_index()"
   ]
  },
  {
   "cell_type": "code",
   "execution_count": 7,
   "metadata": {},
   "outputs": [],
   "source": [
    "conc = pd.concat([data, df2], axis=1)\n",
    "conc.to_csv('/Users/ajda/Desktop/clusters.csv', index=False)"
   ]
  },
  {
   "cell_type": "code",
   "execution_count": 8,
   "metadata": {},
   "outputs": [
    {
     "name": "stdout",
     "output_type": "stream",
     "text": [
      "Number of clusters found: 7\n"
     ]
    }
   ],
   "source": [
    "print(\"Number of clusters found: {}\".format(len(clusters)))"
   ]
  },
  {
   "cell_type": "code",
   "execution_count": 32,
   "metadata": {},
   "outputs": [
    {
     "name": "stdout",
     "output_type": "stream",
     "text": [
      "Enrichment of cluster 1\n",
      "\n",
      "Enrichment of cluster 2\n",
      "     result 3.8e-04 0.044656648\n",
      "     framework 4.2e-03 0.116328771\n",
      "     literature 4.2e-03 0.116328771\n",
      "     study 4.9e-03 0.116328771\n",
      "     finding 5.6e-03 0.116328771\n",
      "     relationship 5.9e-03 0.116328771\n",
      "\n",
      "Enrichment of cluster 3\n",
      "     using 2.1e-04 0.025062105\n",
      "     purpose 3.0e-03 0.127171465\n",
      "     analysis 3.2e-03 0.127171465\n",
      "     value 5.7e-03 0.145137617\n",
      "     methodology 6.5e-03 0.145137617\n",
      "     finding 8.5e-03 0.145137617\n",
      "     experience 9.7e-03 0.145137617\n",
      "     design 9.8e-03 0.145137617\n",
      "\n",
      "Enrichment of cluster 4\n",
      "\n",
      "Enrichment of cluster 5\n",
      "     use 1.2e-03 0.139366921\n",
      "     first 5.0e-03 0.296032836\n",
      "\n",
      "Enrichment of cluster 6\n",
      "     aim 1.9e-04 0.022460243\n",
      "\n",
      "Enrichment of cluster 7\n",
      "     business 4.5e-03 0.428868803\n",
      "\n"
     ]
    }
   ],
   "source": [
    "from orangecontrib.text.stats import false_discovery_rate, hypergeom_p_values\n",
    "import numpy as np\n",
    "\n",
    "filter_p_value = 0.01\n",
    "filter_fdr_value = 1\n",
    "\n",
    "def getKey(item):\n",
    "    return item[1]\n",
    "\n",
    "for i in range(len(clusters)):\n",
    "    mask = []\n",
    "    for cl, ind in items:\n",
    "        if cl == i:\n",
    "            mask.append(True)\n",
    "        else:\n",
    "            mask.append(False)\n",
    "\n",
    "    data = X.toarray()\n",
    "    selected_data = np.compress(mask, data, axis=0)\n",
    "\n",
    "    p_values = hypergeom_p_values(data, selected_data)\n",
    "    fdr_values = false_discovery_rate(p_values)\n",
    "    \n",
    "    fp = lambda score: \"%0.5f\" % score if score > 10e-3 else \"%0.1e\" % score\n",
    "    fpt = lambda score: \"%0.9f\" % score if score > 10e-3 else \"%0.5e\" % score\n",
    "    \n",
    "    print(\"Enrichment of cluster {}\".format(i+1))\n",
    "    \n",
    "    result = []\n",
    "    for word, pval, fval in zip(features, p_values, fdr_values):\n",
    "        if pval <= filter_p_value and fval <= filter_fdr_value:\n",
    "            result.append((word, fp(pval), fpt(fval)))\n",
    "    result = sorted(result, key=getKey)\n",
    "    for w, p, f in result:\n",
    "        print(\"    \", w, p, f)\n",
    "    print()\n"
   ]
  },
  {
   "cell_type": "code",
   "execution_count": null,
   "metadata": {},
   "outputs": [],
   "source": []
  }
 ],
 "metadata": {
  "kernelspec": {
   "display_name": "Python 3",
   "language": "python",
   "name": "python3"
  },
  "language_info": {
   "codemirror_mode": {
    "name": "ipython",
    "version": 3
   },
   "file_extension": ".py",
   "mimetype": "text/x-python",
   "name": "python",
   "nbconvert_exporter": "python",
   "pygments_lexer": "ipython3",
   "version": "3.7.2"
  }
 },
 "nbformat": 4,
 "nbformat_minor": 2
}
