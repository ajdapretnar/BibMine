{
 "cells": [
  {
   "cell_type": "markdown",
   "metadata": {},
   "source": [
    "## Load API keys needed for Elsevier and Dropbox\n",
    "\n",
    "Set the API keys in [api_keys.ipynb](api_keys.ipynb)."
   ]
  },
  {
   "cell_type": "code",
   "execution_count": null,
   "metadata": {},
   "outputs": [],
   "source": [
    "%run api_keys.ipynb"
   ]
  },
  {
   "cell_type": "markdown",
   "metadata": {},
   "source": [
    "### Connect to Scopus"
   ]
  },
  {
   "cell_type": "code",
   "execution_count": null,
   "metadata": {},
   "outputs": [],
   "source": [
    "%run scopus.ipynb"
   ]
  },
  {
   "cell_type": "markdown",
   "metadata": {},
   "source": [
    "## Obtain records"
   ]
  },
  {
   "cell_type": "code",
   "execution_count": null,
   "metadata": {},
   "outputs": [],
   "source": [
    "scopus_query = \"tourism+AND+innovation\""
   ]
  },
  {
   "cell_type": "code",
   "execution_count": null,
   "metadata": {},
   "outputs": [],
   "source": [
    "data = scopus_retrive(scopus_query, save_to_file='tmp_all.csv')\n",
    "print('Documents loaded: {}'.format(len(data)))"
   ]
  },
  {
   "cell_type": "code",
   "execution_count": 1,
   "metadata": {},
   "outputs": [],
   "source": [
    "import pandas as pd\n",
    "data = pd.read_csv('../Stakeholders/Stakeholders-clean.csv')"
   ]
  },
  {
   "cell_type": "code",
   "execution_count": null,
   "metadata": {},
   "outputs": [],
   "source": [
    "data"
   ]
  },
  {
   "cell_type": "markdown",
   "metadata": {},
   "source": [
    "## Preprocess"
   ]
  },
  {
   "cell_type": "code",
   "execution_count": 50,
   "metadata": {},
   "outputs": [
    {
     "name": "stderr",
     "output_type": "stream",
     "text": [
      "[nltk_data] Downloading package stopwords to /Users/ajda/nltk_data...\n",
      "[nltk_data]   Package stopwords is already up-to-date!\n",
      "[nltk_data] Downloading package wordnet to /Users/ajda/nltk_data...\n",
      "[nltk_data]   Package wordnet is already up-to-date!\n"
     ]
    }
   ],
   "source": [
    "%run preprocessing.ipynb"
   ]
  },
  {
   "cell_type": "code",
   "execution_count": 51,
   "metadata": {},
   "outputs": [],
   "source": [
    "ignore_words = [\n",
    "    \"finding\", \"research\", \"purpose\", \"study\", \"methodology\", \"result\", \n",
    "    \"analysis\", \"method\", \"paper\", \"literature\", \"tourism\", \"also\", \"within\", \n",
    "    \"whereas\", \"would\", \"fig\", \"may\", \"however\", \"could\", \"might\"\n",
    "]"
   ]
  },
  {
   "cell_type": "code",
   "execution_count": 52,
   "metadata": {},
   "outputs": [],
   "source": [
    "keyword = \"tourist\""
   ]
  },
  {
   "cell_type": "code",
   "execution_count": 53,
   "metadata": {},
   "outputs": [
    {
     "name": "stdout",
     "output_type": "stream",
     "text": [
      "Documents kept after preprocessing: 405\n"
     ]
    }
   ],
   "source": [
    "documents_tokens, data_preprocessed = preprocess(data, to_ignore=ignore_words, keyword=keyword, save_to_file='stakeholders_preprocessed_pattern2.csv')\n",
    "print('Documents kept after preprocessing: {}'.format(len(documents_tokens)))"
   ]
  },
  {
   "cell_type": "markdown",
   "metadata": {},
   "source": [
    "## Basic statistics"
   ]
  },
  {
   "cell_type": "code",
   "execution_count": 59,
   "metadata": {},
   "outputs": [
    {
     "name": "stdout",
     "output_type": "stream",
     "text": [
      "interlock directorship :  12.28139881653756\n",
      "copper canyon :  12.018364410703768\n",
      "sea sand :  10.57357956803087\n",
      "scuba dive :  10.355399397981337\n",
      "carry capacity :  9.821967197900264\n",
      "policy maker :  9.785987900794696\n",
      "play role :  8.603326911424924\n",
      "data collection :  8.374508220929043\n",
      "population size :  8.363860976729532\n",
      "attitude toward :  8.201671624066828\n",
      "firm locate :  7.881468209648924\n",
      "toward ecotourism :  7.796687789451905\n",
      "dark site :  7.773604176338862\n",
      "government agency :  7.7578368604805465\n",
      "tour operator :  7.594675977150976\n",
      "theme park :  7.415150205426389\n",
      "tour guide :  7.326009703237853\n",
      "loyalty intention :  7.284818337078704\n",
      "set variable :  7.271414727964938\n",
      "climate change :  7.169393791024428\n",
      "message take :  7.107027910064055\n",
      "actor involve :  6.774661483121907\n",
      "relation network :  6.706489980480326\n",
      "quality life :  6.684794909381008\n",
      "intention revisit :  6.440096562556617\n",
      "management scenario :  6.437518018454842\n",
      "production consumption :  6.251651473143509\n",
      "value chain :  6.231187370583793\n",
      "good service :  6.124894330857568\n",
      "host community :  6.11013860441143\n",
      "provide evidence :  6.103860630985373\n",
      "disaster site :  6.095532271226228\n",
      "add value :  6.053649185031604\n",
      "revisit intention :  6.025059063277775\n",
      "take place :  5.93326084232735\n",
      "value creation :  5.880112930036914\n",
      "hsr service :  5.861859925023776\n",
      "decision make :  5.771843718474425\n",
      "visit wetland :  5.760452808687559\n",
      "information source :  5.722431524349348\n",
      "meaning event :  5.7191563923164885\n",
      "service provider :  5.6960510320536955\n",
      "perceive value :  5.665988124684066\n",
      "food attribute :  5.552571291815031\n",
      "hospitality industry :  5.481423424845554\n",
      "need want :  5.4740438944799585\n",
      "wine region :  5.389007790624158\n",
      "focus group :  5.374909025221351\n",
      "film location :  5.279789563675902\n",
      "satisfaction level :  5.211725288730749\n",
      "stakeholder group :  5.176363345839269\n",
      "factor influence :  5.164188631893168\n",
      "offer opportunity :  5.147314813328773\n",
      "dive industry :  5.06999717911909\n",
      "food image :  5.056995109442637\n",
      "busines model :  5.010195196175177\n"
     ]
    }
   ],
   "source": [
    "bigram_measures = BigramAssocMeasures()\n",
    "flat_tokens = [t for doc in documents_tokens for t in doc]\n",
    "finder = BigramCollocationFinder.from_words(flat_tokens)\n",
    "finder.apply_freq_filter(5)\n",
    "for (i, j), score in finder.score_ngrams(bigram_measures.pmi):\n",
    "    if score > 5:\n",
    "        print(i, j, ': ', score)"
   ]
  },
  {
   "cell_type": "code",
   "execution_count": 41,
   "metadata": {},
   "outputs": [],
   "source": [
    "import matplotlib.pyplot as plt\n",
    "%matplotlib inline"
   ]
  },
  {
   "cell_type": "markdown",
   "metadata": {},
   "source": [
    "### Word Frequencies\n",
    "\n",
    "Find most frequent words in the corpus."
   ]
  },
  {
   "cell_type": "code",
   "execution_count": 42,
   "metadata": {},
   "outputs": [],
   "source": [
    "fdist = word_frequencies(documents_tokens)"
   ]
  },
  {
   "cell_type": "markdown",
   "metadata": {},
   "source": [
    "Change `show_top_n` to adjust the number of words to display."
   ]
  },
  {
   "cell_type": "code",
   "execution_count": 43,
   "metadata": {},
   "outputs": [
    {
     "data": {
      "image/png": "[encoded data removed]",
      "text/plain": [
       "<Figure size 216x432 with 1 Axes>"
      ]
     },
     "metadata": {
      "needs_background": "light"
     },
     "output_type": "display_data"
    }
   ],
   "source": [
    "show_top_n = 30\n",
    "\n",
    "# calc\n",
    "mc = fdist.most_common(show_top_n)\n",
    "\n",
    "# plot\n",
    "mc = mc[::-1] ; ws, fs = zip(*mc) ; ws = ['{} ({})'.format(w, f) for w, f in mc]\n",
    "plt.figure(figsize=(3, 6*show_top_n/30))\n",
    "plt.box(False); plt.tick_params(top=False, bottom=True, left=False, right=False, labelleft=True, labelbottom=True)\n",
    "plt.barh(range(len(ws)), fs) ; plt.yticks(range(len(ws)), ws); plt.ylim(-1, len(ws));\n",
    "plt.savefig('freq-dist-stakeholders')"
   ]
  },
  {
   "cell_type": "markdown",
   "metadata": {},
   "source": [
    "### Context of words\n",
    "\n",
    "Find common contexts (co-occurring words) where the words from the list appear."
   ]
  },
  {
   "cell_type": "code",
   "execution_count": null,
   "metadata": {},
   "outputs": [],
   "source": [
    "word_list = ['stakeholder', 'tourist']\n",
    "\n",
    "context = word_contexts(documents_tokens, word_list, num=30)"
   ]
  },
  {
   "cell_type": "markdown",
   "metadata": {},
   "source": [
    "## Topic discovery"
   ]
  },
  {
   "cell_type": "code",
   "execution_count": null,
   "metadata": {},
   "outputs": [],
   "source": [
    "%run \"Topic Modeling/pyldavis.ipynb\""
   ]
  },
  {
   "cell_type": "markdown",
   "metadata": {},
   "source": [
    "### Show topics and most frequently used words in each topic\n",
    "Set `num_topics` to the expected number of topics in the corpus.\n",
    "\n",
    "Set `num_words` to control the number of ***most frequent*** words listed for each topic."
   ]
  },
  {
   "cell_type": "code",
   "execution_count": null,
   "metadata": {
    "scrolled": false
   },
   "outputs": [],
   "source": [
    "num_topics = 7\n",
    "num_words = 10\n",
    "\n",
    "corpus, dictionary, ldamodel = pyldavis_prep(documents_tokens, num_topics=num_topics, num_words=num_words)"
   ]
  },
  {
   "cell_type": "markdown",
   "metadata": {},
   "source": [
    "### Interactive visualization of topics\n",
    "\n",
    "The visualization shows topics as circles in a 2D plot. This is an approximation of topic similarity. The more similar two topics are, the closer they will be in the plot. The size of the circle corresponds to the presence of the topic in the corpus.\n",
    "\n",
    "The visualization also shows the top 30 ***most relevant*** terms (words) for each topic. If a word is frequent in a topic, but also in the entire corpus, it will get a lower relevance score than a word that is frequent in a topic alone. \n",
    "\n",
    "***Relevance*** of a word in a topic is a weighted measure of the word probability within the topic and the word lift (the ratio of the word probability within the topic to its probability in the entire corpus). \n",
    "\n",
    "***Saliency*** refers to the importance of each word for a topic.\n",
    "\n",
    "\n",
    "How to interact with the visualization:\n",
    "1. Select a topic by clicking on a circle in the plot or by selecting a topic number in the control area at the top.\n",
    "\n",
    "2. On the right, you see the most relevant terms for the selected topic. Adjust the relevance slider. For `lambda = 0` it is equal to the lift of the word, for `lambda = 1` it is equal to probability of the word within the topic.\n",
    "\n",
    "3. If you click on a word in the histogram on the right, topic circles will resize according to the ***saliency*** of the term in the topic."
   ]
  },
  {
   "cell_type": "code",
   "execution_count": null,
   "metadata": {
    "scrolled": false
   },
   "outputs": [],
   "source": [
    "pyldavis_vis(corpus, dictionary, ldamodel, save_to_html='stakeholders.html')"
   ]
  },
  {
   "cell_type": "markdown",
   "metadata": {},
   "source": [
    "## Cluster documents and topics\n",
    "\n",
    "Add topic vectors and generate a clustering of documents."
   ]
  },
  {
   "cell_type": "code",
   "execution_count": null,
   "metadata": {},
   "outputs": [],
   "source": [
    "%run \"Topic Modeling/visualization.ipynb\""
   ]
  },
  {
   "cell_type": "code",
   "execution_count": null,
   "metadata": {},
   "outputs": [],
   "source": [
    "topic_vectors = add_topics_vector(corpus, ldamodel)\n",
    "data_preprocessed_vectors = pd.concat([data_preprocessed, topic_vectors], axis=1)\n",
    "data_preprocessed_vectors.to_csv('tmp_preprocessed_vectors.csv', index=True)"
   ]
  },
  {
   "cell_type": "markdown",
   "metadata": {},
   "source": [
    "Visualize with heatmaps."
   ]
  },
  {
   "cell_type": "code",
   "execution_count": null,
   "metadata": {
    "scrolled": false
   },
   "outputs": [],
   "source": [
    "hm, cm = visualize(topic_vectors)"
   ]
  },
  {
   "cell_type": "markdown",
   "metadata": {},
   "source": [
    "Visualize by time."
   ]
  },
  {
   "cell_type": "code",
   "execution_count": null,
   "metadata": {},
   "outputs": [],
   "source": [
    "datetime_data = get_datetime(topic_vectors, data)\n",
    "hm_t = heat_map_time('2000-01-01', '2010-12-31', datetime_data)"
   ]
  },
  {
   "cell_type": "code",
   "execution_count": null,
   "metadata": {},
   "outputs": [],
   "source": [
    "dominant_topic = get_dominant_topic(ldamodel, corpus, data)\n",
    "dominant_topic"
   ]
  },
  {
   "cell_type": "code",
   "execution_count": null,
   "metadata": {},
   "outputs": [],
   "source": [
    "new = pd.concat([data_preprocessed_vectors, dominant_topic], axis=1)\n",
    "new"
   ]
  },
  {
   "cell_type": "code",
   "execution_count": null,
   "metadata": {},
   "outputs": [],
   "source": [
    "new = new.drop(['CitedBy', 'URL', 'Document_No', 'Text'], axis=1)"
   ]
  },
  {
   "cell_type": "code",
   "execution_count": null,
   "metadata": {},
   "outputs": [],
   "source": [
    "new.to_csv('technology-topics.csv')"
   ]
  },
  {
   "cell_type": "code",
   "execution_count": null,
   "metadata": {},
   "outputs": [],
   "source": [
    "representative_docs = get_representative_doc(dominant_topic)\n",
    "representative_docs"
   ]
  },
  {
   "cell_type": "code",
   "execution_count": null,
   "metadata": {},
   "outputs": [],
   "source": [
    "representative_docs.to_csv('representative-docs-LDA7.csv')"
   ]
  },
  {
   "cell_type": "code",
   "execution_count": null,
   "metadata": {},
   "outputs": [],
   "source": [
    "topic_distribution = get_topic_distribution(dominant_topic, representative_docs)\n",
    "topic_distribution"
   ]
  },
  {
   "cell_type": "code",
   "execution_count": null,
   "metadata": {},
   "outputs": [],
   "source": [
    "topic_distribution.to_csv('topic-distribution.csv')"
   ]
  },
  {
   "cell_type": "code",
   "execution_count": null,
   "metadata": {},
   "outputs": [],
   "source": []
  }
 ],
 "metadata": {
  "kernelspec": {
   "display_name": "Python 3",
   "language": "python",
   "name": "python3"
  },
  "language_info": {
   "codemirror_mode": {
    "name": "ipython",
    "version": 3
   },
   "file_extension": ".py",
   "mimetype": "text/x-python",
   "name": "python",
   "nbconvert_exporter": "python",
   "pygments_lexer": "ipython3",
   "version": "3.7.2"
  },
  "latex_envs": {
   "LaTeX_envs_menu_present": true,
   "autocomplete": true,
   "bibliofile": "biblio.bib",
   "cite_by": "apalike",
   "current_citInitial": 1,
   "eqLabelWithNumbers": true,
   "eqNumInitial": 1,
   "hotkeys": {
    "equation": "Ctrl-E",
    "itemize": "Ctrl-I"
   },
   "labels_anchors": false,
   "latex_user_defs": false,
   "report_style_numbering": false,
   "user_envs_cfg": false
  },
  "nbTranslate": {
   "displayLangs": [
    "*"
   ],
   "hotkey": "alt-t",
   "langInMainMenu": true,
   "sourceLang": "en",
   "targetLang": "fr",
   "useGoogleTranslate": true
  }
 },
 "nbformat": 4,
 "nbformat_minor": 2
}
